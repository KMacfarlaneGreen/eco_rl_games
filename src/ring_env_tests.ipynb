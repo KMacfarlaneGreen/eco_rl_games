{
 "cells": [
  {
   "cell_type": "code",
   "execution_count": 4,
   "id": "4dc07e15",
   "metadata": {
    "ExecuteTime": {
     "start_time": "2022-09-20T14:49:24.979Z"
    }
   },
   "outputs": [],
   "source": [
    "#from ring_environment import Environment\n",
    "import os\n",
    "import gzip\n",
    "import math\n",
    "import copy\n",
    "import pickle\n",
    "import random\n",
    "import numpy as np\n",
    "import networkx as nx\n",
    "\n",
    "import torch\n",
    "import torch.nn as nn\n",
    "import torch.optim as optim\n",
    "import torch.nn.functional as F\n",
    "import torch.multiprocessing as mp\n",
    "\n",
    "from multiprocessing import Queue, Lock\n",
    "\n",
    "import warnings\n",
    "warnings.filterwarnings(\"ignore\", category=DeprecationWarning)\n",
    "\n",
    "from agent import Agent"
   ]
  },
  {
   "cell_type": "code",
   "execution_count": 69,
   "id": "793fb319",
   "metadata": {},
   "outputs": [],
   "source": [
    "class Environment:\n",
    "    def __init__(self, size, num_actions = 2, name = None, \n",
    "            max_iteration = 5000, num_agents = 20):\n",
    "       \n",
    "        node_num = self.size = size\n",
    "        self.graph = nx.cycle_graph(node_num)\n",
    "        self.nodes = list(self.graph.nodes)\n",
    "        self.num_agents = num_agents\n",
    "\n",
    "        #to do: sort mind function:\n",
    "        #- inputs, outputs, handling each agent's individual mind\n",
    "\n",
    "        #self.A_mind = Mind(input_size, num_actions, self.lock, Queue())\n",
    "        #self.B_mind = Mind(input_size, num_actions, self.lock, Queue())\n",
    "        #for segregation the agent_range defines the window that each agent can observe which is then input to that nn\n",
    "        self.max_iteration = max_iteration\n",
    "\n",
    "        #self.vals = [-1, 0, 1, 2]  #possible values for grid squares in segregation case\n",
    "        #self.names_to_vals = {\"void\": -2, \"A\": -1, \"free\": 0, \"B\": 1, \"prey\": 2}\n",
    "        #self.vals_to_names = {v: k for k, v in self.names_to_vals.items()}\n",
    "        #self.vals_to_index = {-1: 0, 0: 1, 1: 2, 2: 3}\n",
    "\n",
    "        self.crystal = np.zeros((max_iteration, node_num, 1))  #id  -should there be other info in this?\n",
    "        #what actually is this crystal object? Is this what's being saved?\n",
    "\n",
    "        self.history = []        #think about what quantities I want to save\n",
    "        self.id_track = []       #how to define, intitialise and store them \n",
    "        self.records = []\n",
    "\n",
    "        if name:\n",
    "            self.name = name\n",
    "\n",
    "        if not os.path.isdir(str(self.name)):\n",
    "            #os.mkdir(str(self.name))\n",
    "            #os.mkdir(str(self.name)+'/episodes')\n",
    "            self.map, self.agents, self.loc_to_agent, self.id_to_agent = self._generate_map()\n",
    "            #self._set_initial_states()\n",
    "            #self.mask = self._get_mask()\n",
    "            #self.crystal = np.zeros((max_iteration, nodes, 2)) # tr,  id\n",
    "            #self.iteration = 0\n",
    "        else:\n",
    "            assert False, \"There exists an experiment with this name.\"\n",
    "\n",
    "\n",
    "\n",
    "    def _generate_map(self):\n",
    "        #generates representation of environment in a given state\n",
    "        #rewrite this function to give graph with a given number of agents on each node\n",
    "        #where:\n",
    "        # map = graph with n agents on each node (state of environment)\n",
    "        # agents = agents\n",
    "        # loc_to_agent = location of each agent   what is the structure of these dicionaries? \n",
    "        # id_to_agent = id of each agent\n",
    "        # work out how to include mind networks\n",
    "        map = np.zeros(self.size)   #index corresponds to graph node i.e. map[0] = 1 means there is one agent on node zero\n",
    "        loc_to_agent = {}\n",
    "        id_to_agent = {}\n",
    "        agents = []\n",
    "        idx = 0\n",
    "        init_nodes = np.zeros(self.num_agents) #initialise agent locations (gives initial node loaction for each agent i.e. init_node[0] = 10 means agent 0 begins on node 10) \n",
    "        for j in range(0, self.num_agents):   #needs to be outside loop over nodes so doesn't change each time\n",
    "            init_nodes[j] = np.random.choice(self.nodes)\n",
    "            agent = Agent(idx, (init_nodes[j]))\n",
    "            loc_to_agent[(init_nodes[j])] = agent\n",
    "            id_to_agent[idx] = agent\n",
    "            agents.append(agent)\n",
    "            idx += 1\n",
    "\n",
    "        for i in enumerate(map):\n",
    "            #print(i)\n",
    "            for x in range(0, self.num_agents):\n",
    "                #print(i[1], init_nodes[x])\n",
    "                if i[0] == init_nodes[x]:\n",
    "                    \n",
    "                    #print(int(i[1]))\n",
    "                    map[i[0]] += 1\n",
    "            \n",
    "            #val = np.random.choice(self.vals, p=self.probs)   #val = number of agents on node i\n",
    "                                                                #not a random choice - should this come after or within agent loop/assignation\n",
    "                                                                #similar structure if val not == 0?\n",
    "                                                                #how to assign number of agents to graph originally?\n",
    "\n",
    "            #map[i] = val     #this is the 'value' of the grid square in the segregation problem being added to the map\n",
    "                                    #this is what I need to change to graph nodes with given numbers of agents present\n",
    "        return map, agents, loc_to_agent, id_to_agent\n"
   ]
  },
  {
   "cell_type": "code",
   "execution_count": 70,
   "id": "221b3b79",
   "metadata": {},
   "outputs": [
    {
     "name": "stdout",
     "output_type": "stream",
     "text": [
      "[0. 0. 0. 0. 0. 0. 0. 0. 0. 0. 0. 0. 0. 0. 0. 0. 0. 0. 0. 0. 0. 0. 0. 0.\n",
      " 0. 0. 0. 0. 0. 0. 0. 0. 0. 0. 0. 0. 0. 0. 0. 0. 0. 0. 0. 0. 0. 0. 0. 0.\n",
      " 0. 0. 0. 0. 0. 0. 0. 0. 0. 0. 0. 0. 0. 0. 0. 0. 0. 0. 0. 0. 0. 0. 0. 0.\n",
      " 0. 0. 0. 0. 0. 0. 0. 0. 0. 0. 0. 0. 0. 0. 0. 0. 0. 0. 0. 0. 0. 0. 0. 0.\n",
      " 0. 0. 0. 0.]\n"
     ]
    }
   ],
   "source": [
    "env = Environment(100, 2, 'Test1', 5000, 20)"
   ]
  },
  {
   "cell_type": "code",
   "execution_count": 71,
   "id": "ac81cb85",
   "metadata": {},
   "outputs": [],
   "source": [
    "#map, agents, loc_to_agent, id_to_agent = env._generate_map()"
   ]
  },
  {
   "cell_type": "code",
   "execution_count": 72,
   "id": "6a5a023d",
   "metadata": {},
   "outputs": [
    {
     "name": "stdout",
     "output_type": "stream",
     "text": [
      "map [0. 1. 0. 1. 0. 0. 0. 0. 0. 0. 1. 0. 0. 0. 0. 1. 0. 0. 0. 0. 0. 0. 0. 0.\n",
      " 0. 0. 0. 0. 1. 0. 0. 1. 0. 0. 0. 0. 0. 2. 0. 0. 1. 0. 0. 1. 0. 0. 0. 0.\n",
      " 2. 0. 0. 1. 0. 1. 0. 0. 0. 0. 0. 0. 0. 1. 1. 0. 0. 0. 0. 0. 0. 0. 0. 0.\n",
      " 0. 0. 0. 0. 0. 0. 0. 0. 0. 0. 0. 0. 0. 1. 1. 0. 0. 1. 0. 0. 0. 0. 1. 0.\n",
      " 0. 0. 0. 0.]\n"
     ]
    }
   ],
   "source": [
    "\n",
    "print('map', env.map)"
   ]
  },
  {
   "cell_type": "code",
   "execution_count": 75,
   "id": "a9651939",
   "metadata": {},
   "outputs": [
    {
     "name": "stdout",
     "output_type": "stream",
     "text": [
      "agents 15.0\n"
     ]
    }
   ],
   "source": [
    "print('agents', env.agents[0].get_loc())   #env.agents[3].get_id() returns 3 which is correct\n",
    "\n",
    "#need to update location so that it is inputting actual agent location not the same number"
   ]
  },
  {
   "cell_type": "code",
   "execution_count": 76,
   "id": "a695c029",
   "metadata": {},
   "outputs": [
    {
     "name": "stdout",
     "output_type": "stream",
     "text": [
      "loc {15.0: <agent.Agent object at 0x7f09f47965c0>, 53.0: <agent.Agent object at 0x7f09f4797040>, 62.0: <agent.Agent object at 0x7f09f47955a0>, 43.0: <agent.Agent object at 0x7f09f47961d0>, 37.0: <agent.Agent object at 0x7f09f4797520>, 86.0: <agent.Agent object at 0x7f09f47965f0>, 89.0: <agent.Agent object at 0x7f09f47959f0>, 51.0: <agent.Agent object at 0x7f09f4796bc0>, 28.0: <agent.Agent object at 0x7f09f4797550>, 48.0: <agent.Agent object at 0x7f09f4795b40>, 31.0: <agent.Agent object at 0x7f09f4795840>, 3.0: <agent.Agent object at 0x7f09f4795150>, 1.0: <agent.Agent object at 0x7f09f4797fa0>, 94.0: <agent.Agent object at 0x7f09f4796bf0>, 85.0: <agent.Agent object at 0x7f09f4795570>, 40.0: <agent.Agent object at 0x7f09f4797580>, 10.0: <agent.Agent object at 0x7f09f4797f70>, 61.0: <agent.Agent object at 0x7f09f4797f40>}\n"
     ]
    }
   ],
   "source": [
    "print('loc', env.loc_to_agent)"
   ]
  },
  {
   "cell_type": "code",
   "execution_count": 44,
   "id": "74bd9a67",
   "metadata": {},
   "outputs": [
    {
     "name": "stdout",
     "output_type": "stream",
     "text": [
      "id {0: <agent.Agent object at 0x7f09f57aaa10>, 1: <agent.Agent object at 0x7f09f5d7a9e0>, 2: <agent.Agent object at 0x7f09f5d7ab00>, 3: <agent.Agent object at 0x7f09f5d79c60>, 4: <agent.Agent object at 0x7f09f5d7ad10>, 5: <agent.Agent object at 0x7f09f5d78a00>, 6: <agent.Agent object at 0x7f09f5d7a8f0>, 7: <agent.Agent object at 0x7f09f5d7b0d0>, 8: <agent.Agent object at 0x7f09f5d7add0>, 9: <agent.Agent object at 0x7f09f5d7a980>, 10: <agent.Agent object at 0x7f09f5d789d0>, 11: <agent.Agent object at 0x7f09f5d79990>, 12: <agent.Agent object at 0x7f09f5d7ad40>, 13: <agent.Agent object at 0x7f09f5d7a440>, 14: <agent.Agent object at 0x7f09f5d7af80>, 15: <agent.Agent object at 0x7f09f5d7b040>, 16: <agent.Agent object at 0x7f09f5d7af50>, 17: <agent.Agent object at 0x7f09f5d7ace0>, 18: <agent.Agent object at 0x7f09f5d7aa10>, 19: <agent.Agent object at 0x7f09f5d7ae60>}\n"
     ]
    }
   ],
   "source": [
    "print('id', env.id_to_agent)"
   ]
  },
  {
   "cell_type": "code",
   "execution_count": 77,
   "id": "c797b5cd",
   "metadata": {},
   "outputs": [],
   "source": [
    "#now know what all of these outputs are I can move onto other functions tomorrow "
   ]
  },
  {
   "cell_type": "code",
   "execution_count": null,
   "id": "905c0f06",
   "metadata": {},
   "outputs": [],
   "source": []
  }
 ],
 "metadata": {
  "hide_input": false,
  "kernelspec": {
   "display_name": "Python 3 (ipykernel)",
   "language": "python",
   "name": "python3"
  },
  "language_info": {
   "codemirror_mode": {
    "name": "ipython",
    "version": 3
   },
   "file_extension": ".py",
   "mimetype": "text/x-python",
   "name": "python",
   "nbconvert_exporter": "python",
   "pygments_lexer": "ipython3",
   "version": "3.10.4"
  },
  "varInspector": {
   "cols": {
    "lenName": 16,
    "lenType": 16,
    "lenVar": 40
   },
   "kernels_config": {
    "python": {
     "delete_cmd_postfix": "",
     "delete_cmd_prefix": "del ",
     "library": "var_list.py",
     "varRefreshCmd": "print(var_dic_list())"
    },
    "r": {
     "delete_cmd_postfix": ") ",
     "delete_cmd_prefix": "rm(",
     "library": "var_list.r",
     "varRefreshCmd": "cat(var_dic_list()) "
    }
   },
   "types_to_exclude": [
    "module",
    "function",
    "builtin_function_or_method",
    "instance",
    "_Feature"
   ],
   "window_display": false
  }
 },
 "nbformat": 4,
 "nbformat_minor": 5
}
